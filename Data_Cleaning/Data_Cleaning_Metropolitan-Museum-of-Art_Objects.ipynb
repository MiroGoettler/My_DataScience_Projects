{
 "cells": [
  {
   "cell_type": "code",
   "execution_count": 1,
   "metadata": {},
   "outputs": [],
   "source": [
    "import datetime\n",
    "import csv\n",
    "import time\n",
    "import pandas as pd"
   ]
  },
  {
   "cell_type": "code",
   "execution_count": 2,
   "metadata": {},
   "outputs": [],
   "source": [
    "def import_dataset(is_cleaned):\n",
    "    # load dataset as pd dataframe\n",
    "    if not is_cleaned:\n",
    "        missing_values = ['Dimensions unavailable']\n",
    "        dframe = pd.read_csv('museum_data.csv', low_memory=False, na_values=missing_values)\n",
    "\n",
    "        # rename column names for easier calling and set object_id as index\n",
    "        dframe.columns = dframe.columns.str.strip().str.lower().str.replace(' ', '_').str.replace('(', '').str.replace(')', '')\n",
    "        dframe.set_index('object_id')\n",
    "\n",
    "        # remove duplicates\n",
    "        len_before = len(dframe)\n",
    "        dframe.drop_duplicates(['object_number'], inplace=True)\n",
    "        print('Removed {} duplicates \\n'.format(len_before - len(dframe)))\n",
    "    else:\n",
    "        dframe = pd.read_csv('museum_data_cleaned.csv', low_memory=False)\n",
    "    return dframe"
   ]
  },
  {
   "cell_type": "markdown",
   "metadata": {},
   "source": [
    "# Create a Readme document\n",
    "\n",
    "Prints out a Pandas Dataframe, which is used the create a Readme doc for the dataset.\n",
    "Every attribute/column is displayed, with name, dtype and a short description if necessary will be added manually. This document can be used for future usage and to get a fast understanding of the dataset."
   ]
  },
  {
   "cell_type": "code",
   "execution_count": 8,
   "metadata": {},
   "outputs": [
    {
     "name": "stdout",
     "output_type": "stream",
     "text": [
      "Removed 2743 duplicates \n",
      "\n",
      "                       attribute    dtype Description\n",
      "column                                               \n",
      "1                    unnamed:_0:      int           .\n",
      "2                 object_number:   String           .\n",
      "3                  is_highlight:  boolean           .\n",
      "4              is_public_domain:  boolean           .\n",
      "5                     object_id:      int           .\n",
      "6                    department:   String           .\n",
      "7                   object_name:   String           .\n",
      "8                         title:   String           .\n",
      "9                       culture:   String           .\n",
      "10                       period:   String           .\n",
      "11                      dynasty:   String           .\n",
      "12                        reign:   String           .\n",
      "13                    portfolio:   String           .\n",
      "14                  artist_role:   String           .\n",
      "15                artist_prefix:   String           .\n",
      "16          artist_display_name:   String           .\n",
      "17           artist_display_bio:   String           .\n",
      "18                artist_suffix:   String           .\n",
      "19            artist_alpha_sort:   String           .\n",
      "20           artist_nationality:   String           .\n",
      "21            artist_begin_date:   String           .\n",
      "22              artist_end_date:   String           .\n",
      "23                  object_date:   String           .\n",
      "24            object_begin_date:      int           .\n",
      "25              object_end_date:      int           .\n",
      "26                       medium:   String           .\n",
      "27                   dimensions:   String           .\n",
      "28                  credit_line:   String           .\n",
      "29               geography_type:   String           .\n",
      "30                         city:   String           .\n",
      "31                        state:   String           .\n",
      "32                       county:   String           .\n",
      "33                      country:   String           .\n",
      "34                       region:   String           .\n",
      "35                    subregion:   String           .\n",
      "36                       locale:   String           .\n",
      "37                        locus:   String           .\n",
      "38                   excavation:   String           .\n",
      "39                        river:   String           .\n",
      "40               classification:   String           .\n",
      "41      rights_and_reproduction:   String           .\n",
      "42                link_resource:   String           .\n",
      "43                metadata_date:   String           .\n",
      "44                   repository:   String           .\n",
      "45                         tags:   String           .\n"
     ]
    }
   ],
   "source": [
    "df = import_dataset(False)\n",
    "frames = []\n",
    "counter = 1\n",
    "for column in df:\n",
    "    types = df[column].apply(type).value_counts(dropna=True)\n",
    "    str_nr, int_nr, bool_nr = 0, 0, 0\n",
    "\n",
    "    for i in range(0, len(types.values)):\n",
    "        if types.index[i].__name__ == 'str':\n",
    "            str_nr = types.values[i]\n",
    "        elif types.index[i].__name__ == 'int':\n",
    "            int_nr = types.values[i]\n",
    "        elif types.index[i].__name__ == 'bool':\n",
    "            bool_nr = types.values[i]\n",
    "\n",
    "        is_dtype = ''\n",
    "        if int_nr != 0:\n",
    "            is_dtype = 'int'\n",
    "        elif str_nr != 0:\n",
    "            is_dtype = 'String'\n",
    "        elif bool_nr != 0:\n",
    "            is_dtype = 'boolean'\n",
    "\n",
    "    new_row = pd.DataFrame({'attribute': [column + ':'],\n",
    "                            'dtype': [is_dtype],\n",
    "                            'column': [counter],\n",
    "                            'Description': ['.']})\n",
    "    frames.append(new_row)\n",
    "    counter += 1\n",
    "\n",
    "result = pd.concat(frames)\n",
    "result.set_index('column', inplace=True)\n",
    "print(result.head(100))"
   ]
  },
  {
   "cell_type": "code",
   "execution_count": 15,
   "metadata": {},
   "outputs": [],
   "source": [
    "def transform_artist_dates(df):\n",
    "    \"\"\"\n",
    "    The artist dates are transformed to have a uniform format.\n",
    "    Multiple dates are put in a list of strings and in the format:\n",
    "    '%Y-%m-%d', with a minus in front if the date is B.C.\n",
    "    \"\"\"\n",
    "    for col in ['artist_begin_date', 'artist_end_date']:\n",
    "        print(col)\n",
    "        for index, row in df.iterrows():\n",
    "            row = row[col]\n",
    "            transformed_date_list = []\n",
    "            if type(row) is str:\n",
    "                row = row.replace(' ', '')\n",
    "                if '|' in row:\n",
    "                    date_list = row.split('|')\n",
    "                else:\n",
    "                    date_list = [row]\n",
    "\n",
    "                for d in date_list:\n",
    "                    if '-' in d and len(d) == 10:\n",
    "                        dt_date = d\n",
    "                    elif len(d) <= 5:\n",
    "                        dt_date = d + '-01-01'\n",
    "                    transformed_date_list.append(dt_date)\n",
    "\n",
    "                # save transformed back to the dataframe\n",
    "                df.at[index, col] = transformed_date_list"
   ]
  },
  {
   "cell_type": "code",
   "execution_count": 14,
   "metadata": {},
   "outputs": [],
   "source": [
    "def all_col_with_multiple_values(df):\n",
    "    \"\"\"\n",
    "    Returns the names of all columns which have the '|' symbol in their cells, which indicates multiple values in on cell.\n",
    "    \"\"\"\n",
    "    col_list = []\n",
    "    for col in df:\n",
    "        has_divider = False\n",
    "        for cell in df[col]:\n",
    "            if type(cell) is str and '|' in cell:\n",
    "                has_divider = True\n",
    "        if has_divider:\n",
    "            col_list.append(col)\n",
    "\n",
    "    return col_list"
   ]
  },
  {
   "cell_type": "code",
   "execution_count": 16,
   "metadata": {},
   "outputs": [],
   "source": [
    "def split_attr_in_lists(df):\n",
    "    \"\"\"\n",
    "    All values from one cell are put in a list, for easier access when analysing the data. Data is in one string and\n",
    "    simply divided by '|', so before the analysis, every value has to be separated. Every column where there are cells\n",
    "    with multiple values, they are transformed to lists.\n",
    "    Format: ['example', 'example']\n",
    "    \"\"\"\n",
    "    for col in all_col_with_multiple_values(df):\n",
    "        print(col)\n",
    "        for index, row in df.iterrows():\n",
    "            row = row[col]\n",
    "            if type(row) is str:\n",
    "                if '|' in row:\n",
    "                    new_list = row.split('|')\n",
    "                else:\n",
    "                    new_list = [row]\n",
    "\n",
    "                # save list back to the dataframe\n",
    "                df.at[index, col] = new_list"
   ]
  },
  {
   "cell_type": "markdown",
   "metadata": {},
   "source": [
    "Run all data cleaning operations on the dataframe and save it as a pickle, for easy usage at a later time."
   ]
  },
  {
   "cell_type": "code",
   "execution_count": 17,
   "metadata": {},
   "outputs": [
    {
     "name": "stdout",
     "output_type": "stream",
     "text": [
      "Removed 2743 duplicates \n",
      "\n",
      "artist_begin_date\n",
      "artist_end_date\n",
      "title\n",
      "artist_role\n",
      "artist_prefix\n",
      "artist_display_name\n",
      "artist_display_bio\n",
      "artist_suffix\n",
      "artist_alpha_sort\n",
      "artist_nationality\n",
      "medium\n",
      "geography_type\n",
      "city\n",
      "state\n",
      "county\n",
      "country\n",
      "region\n",
      "subregion\n",
      "locale\n",
      "locus\n",
      "excavation\n",
      "classification\n",
      "tags\n",
      "Dataframe successfully cleaned.\n"
     ]
    }
   ],
   "source": [
    "df = import_dataset(False)\n",
    "\n",
    "transform_artist_dates(df)\n",
    "split_attr_in_lists(df)\n",
    "df.to_pickle('museum_data_cleaned.pkl')\n",
    "print('Dataframe successfully cleaned.')"
   ]
  }
 ],
 "metadata": {
  "kernelspec": {
   "display_name": "Python 3",
   "language": "python",
   "name": "python3"
  },
  "language_info": {
   "codemirror_mode": {
    "name": "ipython",
    "version": 3
   },
   "file_extension": ".py",
   "mimetype": "text/x-python",
   "name": "python",
   "nbconvert_exporter": "python",
   "pygments_lexer": "ipython3",
   "version": "3.7.0"
  }
 },
 "nbformat": 4,
 "nbformat_minor": 2
}
