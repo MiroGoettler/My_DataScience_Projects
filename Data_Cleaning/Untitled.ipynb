{
 "cells": [
  {
   "cell_type": "code",
   "execution_count": 1,
   "metadata": {},
   "outputs": [],
   "source": [
    "import datetime\n",
    "import csv\n",
    "import time\n",
    "import pandas as pd"
   ]
  },
  {
   "cell_type": "code",
   "execution_count": 2,
   "metadata": {},
   "outputs": [],
   "source": [
    "def import_dataset(is_cleaned):\n",
    "    # load dataset as pd dataframe\n",
    "    if not is_cleaned:\n",
    "        missing_values = ['Dimensions unavailable']\n",
    "        dframe = pd.read_csv('museum_data.csv', low_memory=False, na_values=missing_values)\n",
    "\n",
    "        # rename column names for easier calling and set object_id as index\n",
    "        dframe.columns = dframe.columns.str.strip().str.lower().str.replace(' ', '_').str.replace('(', '').str.replace(')', '')\n",
    "        dframe.set_index('object_id')\n",
    "\n",
    "        # remove duplicates\n",
    "        len_before = len(dframe)\n",
    "        dframe.drop_duplicates(['object_number'], inplace=True)\n",
    "        print('Removed {} duplicates \\n'.format(len_before - len(dframe)))\n",
    "    else:\n",
    "        dframe = pd.read_csv('museum_data_cleaned.csv', low_memory=False)\n",
    "    return dframe"
   ]
  },
  {
   "cell_type": "code",
   "execution_count": 4,
   "metadata": {},
   "outputs": [
    {
     "name": "stdout",
     "output_type": "stream",
     "text": [
      "Removed 2743 duplicates \n",
      "\n",
      "   unnamed:_0 object_number  is_highlight  is_public_domain  object_id  \\\n",
      "0           0    1979.486.1         False             False          1   \n",
      "1           1    1980.264.5         False             False          2   \n",
      "2           2      67.265.9         False             False          3   \n",
      "3           3     67.265.10         False             False          4   \n",
      "4           4     67.265.11         False             False          5   \n",
      "\n",
      "                 department object_name                         title culture  \\\n",
      "0  American Decorative Arts        Coin  One-dollar Liberty Head Coin     NaN   \n",
      "1  American Decorative Arts        Coin  Ten-dollar Liberty Head Coin     NaN   \n",
      "2  American Decorative Arts        Coin    Two-and-a-Half Dollar Coin     NaN   \n",
      "3  American Decorative Arts        Coin    Two-and-a-Half Dollar Coin     NaN   \n",
      "4  American Decorative Arts        Coin    Two-and-a-Half Dollar Coin     NaN   \n",
      "\n",
      "  period ...  locale locus excavation river classification  \\\n",
      "0    NaN ...     NaN   NaN        NaN   NaN          Metal   \n",
      "1    NaN ...     NaN   NaN        NaN   NaN          Metal   \n",
      "2    NaN ...     NaN   NaN        NaN   NaN          Metal   \n",
      "3    NaN ...     NaN   NaN        NaN   NaN          Metal   \n",
      "4    NaN ...     NaN   NaN        NaN   NaN          Metal   \n",
      "\n",
      "  rights_and_reproduction                                     link_resource  \\\n",
      "0                     NaN  http://www.metmuseum.org/art/collection/search/1   \n",
      "1                     NaN  http://www.metmuseum.org/art/collection/search/2   \n",
      "2                     NaN  http://www.metmuseum.org/art/collection/search/3   \n",
      "3                     NaN  http://www.metmuseum.org/art/collection/search/4   \n",
      "4                     NaN  http://www.metmuseum.org/art/collection/search/5   \n",
      "\n",
      "  metadata_date                                repository tags  \n",
      "0           NaN  Metropolitan Museum of Art, New York, NY  NaN  \n",
      "1           NaN  Metropolitan Museum of Art, New York, NY  NaN  \n",
      "2           NaN  Metropolitan Museum of Art, New York, NY  NaN  \n",
      "3           NaN  Metropolitan Museum of Art, New York, NY  NaN  \n",
      "4           NaN  Metropolitan Museum of Art, New York, NY  NaN  \n",
      "\n",
      "[5 rows x 45 columns]\n"
     ]
    }
   ],
   "source": [
    "df = import_dataset(False)\n",
    "print(df.head())"
   ]
  }
 ],
 "metadata": {
  "kernelspec": {
   "display_name": "Python 3",
   "language": "python",
   "name": "python3"
  },
  "language_info": {
   "codemirror_mode": {
    "name": "ipython",
    "version": 3
   },
   "file_extension": ".py",
   "mimetype": "text/x-python",
   "name": "python",
   "nbconvert_exporter": "python",
   "pygments_lexer": "ipython3",
   "version": "3.7.0"
  }
 },
 "nbformat": 4,
 "nbformat_minor": 2
}
